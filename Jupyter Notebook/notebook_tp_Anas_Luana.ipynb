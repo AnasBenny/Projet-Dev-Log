{
 "cells": [
  {
   "cell_type": "markdown",
   "metadata": {},
   "source": [
    "#   Projet développement logiciel - HMMA 238\n",
    "\n",
    "##  Partie Python\n",
    "\n",
    "###  TP°1"
   ]
  },
  {
   "cell_type": "markdown",
   "metadata": {},
   "source": [
    "#### Luana Timofte et Anas El Benna"
   ]
  },
  {
   "cell_type": "markdown",
   "metadata": {},
   "source": [
    "##  Exercice 1 - Le jeu de la vie"
   ]
  },
  {
   "cell_type": "markdown",
   "metadata": {},
   "source": [
    "<img src=\"https://raw.githubusercontent.com/Elpysum/Projet-Dev-Log/master/Images/F1.jpg\" width=\"500\">"
   ]
  },
  {
   "cell_type": "markdown",
   "metadata": {},
   "source": [
    "<p style='text-align: justify;'> Le jeu de la vie est un automate cellulaire mis au point par le mathématicien britannique John Horton Conway en 1970. Il constitue l'exemple le plus connu d'un automate cellulaire. Le \"jeu\" est en fait un jeu à zéro joueur, ce qui signifie que son évolution est déterminée par son état initial et ne nécessite aucune intervention de la part d'un humain. On interagit avec le jeu de la vie en créant une configuration initiale. Il ne reste plus alors qu'à observer son évolution. </p>\n",
    "\n",
    "<p style='text-align: justify;'> L'univers du jeu est une grille orthogonale bidimensionnelle infinie de cellules carrées (dans la suite du projet on supposera que la grille est carrée et de taille finie pour éviter toute difficulté ; on supposera aussi que le contour de la grille est toujours inactif/mort), chacune d'entre elles se trouvant dans l'un des deux états possibles : </p>\n",
    "\n",
    "* **vivant**\n",
    "\n",
    "* **mort**\n",
    "\n",
    "Chaque cellule interagit avec ses huit voisins, qui sont les cellules directement adjacentes horizontalement, verticalement ou en diagonale, comme indiqué sur la Figure 1. À chaque étape, les transitions suivantes se produisent :\n",
    "\n",
    "**a)** Toute cellule morte ayant exactement 3 voisins vivants devient une cellule vivante (naissance), cf. **Figure 2a**\n",
    "\n",
    "**b)** Toute cellule vivante avec 2 ou 3 voisins vivants vit inchangée jusqu'à la génération suivante (équilibre), cf. **Figure 2b**\n",
    "\n",
    "**c)** Toute cellule vivante ayant 4 voisins vivants (mort par étouffement), cf. **Figure 2c**\n",
    "\n",
    "**d)** Toute cellule vivante ayant 0 ou 1 voisin vivant décède (mort par isolement), cf. **Figure 2d**.\n",
    "\n",
    "Voici donc la **Figure 2a**, représentant les quatre configurations possibles pour la cellule centrale : naissance (bleu), équilibre, mort par étouffement et par isolement (rouge) :"
   ]
  },
  {
   "cell_type": "markdown",
   "metadata": {},
   "source": [
    "<img src=\"https://raw.githubusercontent.com/Elpysum/Projet-Dev-Log/master/Images/F2.jpg\" width=\"700\">"
   ]
  },
  {
   "cell_type": "markdown",
   "metadata": {},
   "source": [
    "<p style='text-align: justify;'> Le modèle initial constitue la \"graine\" du système. La première génération est crée en appliquant les règles ci-dessus simultanément à chaque cellule de la graine - les naissances et les décès se produisent simultanément. Ainsi chaque génération est une fonction de la précèdente. Les règles continuent d'être appliquées de manière répétée pour créer d'autres générations. </p>\n",
    "\n",
    "**ATTENTION :** La \"carte\" (on utilisera une liste de liste pour la représenter) est équipée d'une frontière de 0 : cela permet d'accélérer légèrement les calculs en évitant d'avoir des tests spécifiques pour les frontières lors du comptage du nombre de voisins. Ainsi la \"couronne\" du tour de la carte sera fixée à zéro. </p>"
   ]
  },
  {
   "cell_type": "markdown",
   "metadata": {},
   "source": [
    "### Implémentation sans numpy\n",
    "\n",
    "\n",
    "Toutes les fonctions définies, par la suite, sont placées dans un fichier **utils.py** que l'on appellera depuis le notebook.\n",
    "De même, pour avoir la description de chaque fonction, nous allons utiliser **help**.\n",
    "\n",
    "On va fournir ci-dessous le code Python pour coder ce jeu. Dans la suite on va coder les cellules vivantes par des 1 et les cellules mortes par des 0.   \n",
    "\n",
    "Tout d'abord on définit la fonction **calcul_nb_voisins**, comme ceci :"
   ]
  },
  {
   "cell_type": "code",
   "execution_count": 1,
   "metadata": {},
   "outputs": [
    {
     "name": "stdout",
     "output_type": "stream",
     "text": [
      "Help on function calcul_nb_voisins in module utils:\n",
      "\n",
      "calcul_nb_voisins(Z)\n",
      "    Arguments : \n",
      "    - Z = une liste de listes\n",
      "    \n",
      "    La fonction calcule le nombre de cellules voisines vivantes de chaque autre cellule.\n",
      "\n"
     ]
    }
   ],
   "source": [
    "from utils import calcul_nb_voisins\n",
    "help(calcul_nb_voisins)"
   ]
  },
  {
   "cell_type": "markdown",
   "metadata": {},
   "source": [
    "#### Question 1 \n",
    "Appliquons la fonction précédente à la liste (de liste) Z suivante :"
   ]
  },
  {
   "cell_type": "code",
   "execution_count": 2,
   "metadata": {},
   "outputs": [],
   "source": [
    "Z = [[0,0,0,0,0,0],\n",
    "    [0,0,0,1,0,0],\n",
    "    [0,1,0,1,0,0],\n",
    "    [0,0,1,1,0,0],\n",
    "    [0,0,0,0,0,0],\n",
    "    [0,0,0,0,0,0]]"
   ]
  },
  {
   "cell_type": "markdown",
   "metadata": {},
   "source": [
    "Expliquons ce que représente la sortie obtenue **N=calcul_nb_voisins(Z)** :\n",
    "\n",
    "Cette sortie représente le nombre de cellules voisines vivantes de chaque autre cellule (ici, ce premier Z c'est la première itération)."
   ]
  },
  {
   "cell_type": "code",
   "execution_count": 3,
   "metadata": {},
   "outputs": [
    {
     "data": {
      "text/plain": [
       "[[0, 0, 0, 0, 0, 0],\n",
       " [0, 1, 3, 1, 2, 0],\n",
       " [0, 1, 5, 3, 3, 0],\n",
       " [0, 2, 3, 2, 2, 0],\n",
       " [0, 1, 2, 2, 1, 0],\n",
       " [0, 0, 0, 0, 0, 0]]"
      ]
     },
     "execution_count": 3,
     "metadata": {},
     "output_type": "execute_result"
    }
   ],
   "source": [
    "N = calcul_nb_voisins(Z)\n",
    "N"
   ]
  },
  {
   "cell_type": "markdown",
   "metadata": {},
   "source": [
    "Cette sortie donne une liste de listes N de même taille que Z, tel que $N_{ij}$ est le nombre de voisins vivants parmi les 8 voisins de la cellule $Z_{ij}$.  \n",
    "\n",
    "$\\textit{Exemple :}$ La cellule $Z_{34}$ a comme voisins vivants les cellulles $Z_{24}, Z_{43}$ et $Z_{44}$"
   ]
  },
  {
   "cell_type": "markdown",
   "metadata": {},
   "source": [
    "Maintenant, on définit une fonction **iteration_jeu** (dans le fichier utils.py), puis on l'applique sur Z."
   ]
  },
  {
   "cell_type": "code",
   "execution_count": 4,
   "metadata": {
    "scrolled": true
   },
   "outputs": [
    {
     "name": "stdout",
     "output_type": "stream",
     "text": [
      "Help on function iteration_jeu in module utils:\n",
      "\n",
      "iteration_jeu(Z)\n",
      "    Arguments : \n",
      "    - Z = une liste de listes\n",
      "    \n",
      "    Propriétés : \n",
      "    - On parcourt avec la boucle for chaque cellule de Z avec son nombre de voisins vivants.\n",
      "    - Si une cellule vivante a 0, 1 ou 4 voisins vivants on lui affecte la valeur 0 (mort).\n",
      "    - Si une cellule morte a exactement 3 voisins vivants on lui affecte 1 (naissance).\n",
      "    - Tout autre cas garde la meme valeur.\n",
      "    \n",
      "    Cette fonction fait donc une simulation d'un tour du jeu pour une liste Z donnée.\n",
      "\n"
     ]
    }
   ],
   "source": [
    "from utils import iteration_jeu\n",
    "help(iteration_jeu)"
   ]
  },
  {
   "cell_type": "code",
   "execution_count": 5,
   "metadata": {
    "scrolled": true
   },
   "outputs": [
    {
     "data": {
      "text/plain": [
       "[[0, 0, 0, 0, 0, 0],\n",
       " [0, 0, 1, 0, 0, 0],\n",
       " [0, 0, 0, 1, 1, 0],\n",
       " [0, 0, 1, 1, 0, 0],\n",
       " [0, 0, 0, 0, 0, 0],\n",
       " [0, 0, 0, 0, 0, 0]]"
      ]
     },
     "execution_count": 5,
     "metadata": {},
     "output_type": "execute_result"
    }
   ],
   "source": [
    "iteration_jeu(Z)"
   ]
  },
  {
   "cell_type": "markdown",
   "metadata": {},
   "source": [
    "#### Question 2\n",
    "Dans cette question on se propose pour la liste Z, ci-dessus d'afficher les étapes du jeu de 0 à 9 itérations, en utilisant une boucle **for**. On utilisera la fonction **subplot** de **matplotlib** pour afficher sur 2 lignes et 5 colonnes, ces 10 matrices. De plus, on a transformé ces listes en **array** pour pouvoir utiliser la fonction **imshow** de matplotlib.\n",
    "\n",
    "Pour cela, on définit une fonction **iterations_09**."
   ]
  },
  {
   "cell_type": "code",
   "execution_count": 6,
   "metadata": {},
   "outputs": [
    {
     "name": "stdout",
     "output_type": "stream",
     "text": [
      "Help on function iterations_09 in module utils:\n",
      "\n",
      "iterations_09(Z)\n",
      "    Arguments : \n",
      "    - Z = une liste de listes (carrée)\n",
      "    \n",
      "    Cette fonction affiche une simulation de 0 à 9 itérations pour un Z de n'importe quelle taille, sur 2 lignes et 5 colonnes.\n",
      "\n"
     ]
    }
   ],
   "source": [
    "import matplotlib.pyplot as plt\n",
    "from utils import iterations_09\n",
    "help(iterations_09)"
   ]
  },
  {
   "cell_type": "code",
   "execution_count": 7,
   "metadata": {
    "scrolled": false
   },
   "outputs": [
    {
     "data": {
      "image/png": "[encoded data removed]",
      "text/plain": [
       "<Figure size 1080x720 with 10 Axes>"
      ]
     },
     "metadata": {
      "needs_background": "light"
     },
     "output_type": "display_data"
    }
   ],
   "source": [
    "Z = ([[0,0,0,0,0,0],\n",
    "    [0,0,0,1,0,0],\n",
    "    [0,1,0,1,0,0],\n",
    "    [0,0,1,1,0,0],\n",
    "    [0,0,0,0,0,0],\n",
    "    [0,0,0,0,0,0]])\n",
    "\n",
    "iterations_09(Z)"
   ]
  },
  {
   "cell_type": "markdown",
   "metadata": {},
   "source": [
    "#### Question 3\n",
    "Premièrement, nous observons que l'itération 0 a la même forme que la 4ème itération. Ensuite, nous remarquons qu'entre l'itération 0  et l'itération 4, les cellules convergent vers le côté droit, en bas du graphique, là où l'on trouve la forme de l'itération initiale. \n",
    "\n",
    "Après l'itération 7, ces cellules trouvent une stabilité, donc ne bougent plus, elles restent dans le côté droit et bas du graphique. En effet, chacune des 4 cellules vivantes restantes a 3 voisins vivants, donc elles vivent inchangées (équilibre).  (**cf. Figure 2b**)"
   ]
  },
  {
   "cell_type": "markdown",
   "metadata": {},
   "source": [
    "### Implémentation avec *numba*\n",
    "\n",
    "#### Question 4\n",
    "\n",
    "On reprend la section précédente avec les fonctions **calcul_nb_voisins_rapide** et **iteration_jeu_rapide** utilisant *numba* et la compilation **\"jit\"** qui sont dans le fichier **utils.py**. On propose un protocole expérimental pour comparer les temps de calcul avec ou sans cet apport."
   ]
  },
  {
   "cell_type": "code",
   "execution_count": 8,
   "metadata": {},
   "outputs": [],
   "source": [
    "import numpy as np\n",
    "import time\n",
    "from numba import jit"
   ]
  },
  {
   "cell_type": "code",
   "execution_count": 9,
   "metadata": {},
   "outputs": [],
   "source": [
    "Z_np = np.array([[0,0,0,0,0,0],\n",
    "    [0,0,0,1,0,0],\n",
    "    [0,1,0,1,0,0],\n",
    "    [0,0,1,1,0,0],\n",
    "    [0,0,0,0,0,0],\n",
    "    [0,0,0,0,0,0]])"
   ]
  },
  {
   "cell_type": "code",
   "execution_count": 10,
   "metadata": {},
   "outputs": [
    {
     "name": "stdout",
     "output_type": "stream",
     "text": [
      "Help on CPUDispatcher in module utils:\n",
      "\n",
      "calcul_nb_voisins_rapide(Z)\n",
      "    Arguments : \n",
      "    - Z = une liste de listes\n",
      "    \n",
      "    La fonction calcule le nombre de cellules voisines vivantes de chaque autre cellule, mais d'une façon plus rapide.\n",
      "\n",
      "Elapsed (with compilation) = 0.5268383026123047\n",
      "Elapsed (after compilation) = 0.0\n"
     ]
    }
   ],
   "source": [
    "from utils import calcul_nb_voisins_rapide\n",
    "help(calcul_nb_voisins_rapide)\n",
    "\n",
    "\n",
    "# Temps avec compilation\n",
    "start = time.time()\n",
    "calcul_nb_voisins_rapide(Z_np)\n",
    "end = time.time()\n",
    "print(\"Elapsed (with compilation) = %s\" % (end - start))\n",
    "\n",
    "# Temps après compilation\n",
    "start = time.time()\n",
    "calcul_nb_voisins_rapide(Z_np)\n",
    "end = time.time()\n",
    "print(\"Elapsed (after compilation) = %s\" % (end - start))\n"
   ]
  },
  {
   "cell_type": "markdown",
   "metadata": {},
   "source": [
    "On observe que, après une première compilation, le temps de compilation est beaucoup plus rapide (converge vers 0) ! "
   ]
  },
  {
   "cell_type": "code",
   "execution_count": 11,
   "metadata": {},
   "outputs": [
    {
     "name": "stdout",
     "output_type": "stream",
     "text": [
      "13.6 µs ± 736 ns per loop (mean ± std. dev. of 7 runs, 10000 loops each)\n"
     ]
    }
   ],
   "source": [
    "# Cela peut prendre un peu de temps \n",
    "%timeit calcul_nb_voisins(Z)"
   ]
  },
  {
   "cell_type": "code",
   "execution_count": 12,
   "metadata": {},
   "outputs": [
    {
     "name": "stdout",
     "output_type": "stream",
     "text": [
      "2.98 µs ± 20.1 ns per loop (mean ± std. dev. of 7 runs, 100000 loops each)\n"
     ]
    }
   ],
   "source": [
    "# Cela peut prendre un peu de temps \n",
    "%timeit calcul_nb_voisins_rapide(Z_np)"
   ]
  },
  {
   "cell_type": "code",
   "execution_count": 13,
   "metadata": {},
   "outputs": [
    {
     "name": "stdout",
     "output_type": "stream",
     "text": [
      "Help on CPUDispatcher in module utils:\n",
      "\n",
      "iteration_jeu_rapide(Z)\n",
      "    Arguments : \n",
      "    - Z = une liste de listes\n",
      "    \n",
      "    Cette fonction fait donc une simulation d'un tour du jeu pour une liste Z donnée, d'une manière plus rapide.\n",
      "\n",
      "Elapsed (with compilation) = 0.3017079830169678\n",
      "Elapsed (after compilation) = 0.0\n"
     ]
    }
   ],
   "source": [
    "from utils import iteration_jeu_rapide\n",
    "help(iteration_jeu_rapide)\n",
    "\n",
    "\n",
    "# Temps avec compilation\n",
    "start = time.time()\n",
    "iteration_jeu_rapide(Z_np)\n",
    "end = time.time()\n",
    "print(\"Elapsed (with compilation) = %s\" % (end - start))\n",
    "\n",
    "# Temps après compilation\n",
    "start = time.time()\n",
    "iteration_jeu_rapide(Z_np)\n",
    "end = time.time()\n",
    "print(\"Elapsed (after compilation) = %s\" % (end - start))"
   ]
  },
  {
   "cell_type": "markdown",
   "metadata": {},
   "source": [
    "Encore une fois, le temps de compilation après une première compilation est incroyablement rapide !"
   ]
  },
  {
   "cell_type": "code",
   "execution_count": 14,
   "metadata": {},
   "outputs": [
    {
     "name": "stdout",
     "output_type": "stream",
     "text": [
      "21.1 µs ± 2.82 µs per loop (mean ± std. dev. of 7 runs, 10000 loops each)\n"
     ]
    }
   ],
   "source": [
    "# Cela peut prendre un peu de temps \n",
    "%timeit iteration_jeu(Z)"
   ]
  },
  {
   "cell_type": "code",
   "execution_count": 15,
   "metadata": {},
   "outputs": [
    {
     "name": "stdout",
     "output_type": "stream",
     "text": [
      "3.76 µs ± 323 ns per loop (mean ± std. dev. of 7 runs, 100000 loops each)\n"
     ]
    }
   ],
   "source": [
    "# Cela peut prendre un peu de temps \n",
    "%timeit iteration_jeu_rapide(Z_np)"
   ]
  },
  {
   "cell_type": "markdown",
   "metadata": {},
   "source": [
    "Finalement, on observe d'après ces temps de compilations, que les versions avec *Numba* et la compilation *jit* sont largement plus rapides en compilation."
   ]
  },
  {
   "cell_type": "markdown",
   "metadata": {},
   "source": [
    "#### Question 5\n",
    "\n",
    "Par la suite, on crée un *widget* dont le curseur permet de contrôler les itérations (par exemple de 0 à 30) du jeu de la vie, quand on initialise avec la **matrice Z_huge** suivante : "
   ]
  },
  {
   "cell_type": "code",
   "execution_count": 16,
   "metadata": {},
   "outputs": [],
   "source": [
    "Z_huge = np.zeros((30,30))\n",
    "\n",
    "Z_np = np.array(\n",
    "    [[0, 0, 0, 0, 0, 0],\n",
    "    [0, 0, 0, 1, 0, 0],\n",
    "    [0, 1, 0, 1, 0, 0],\n",
    "    [0, 0, 1, 1, 0, 0],\n",
    "    [0, 0, 0, 0, 0, 0],\n",
    "    [0, 0, 0, 0, 0, 0]])\n",
    "\n",
    "Z_huge[10:16, 10:16] = Z_np"
   ]
  },
  {
   "cell_type": "markdown",
   "metadata": {},
   "source": [
    "Pour une meilleure visualisation, nous avons choisi de diminuer la taille de la matrice à **(30,30)**.\n",
    "\n",
    "En premier, prenons un exemple avec la liste des listes Z. Ensuite, nous allons faire le widget avec **Z_huge**, de taille (30,30)."
   ]
  },
  {
   "cell_type": "code",
   "execution_count": 17,
   "metadata": {},
   "outputs": [
    {
     "name": "stdout",
     "output_type": "stream",
     "text": [
      "Help on function step_i in module utils:\n",
      "\n",
      "step_i(Z_initial, iter)\n",
      "    Arguments : \n",
      "    - Z_initial = une liste de listes initiale\n",
      "    - iter = nombre d'iterations \n",
      "    \n",
      "    Cette fonction affiche l'étape i (choisie par l'utilisateur) du jeu de la vie, pour une matrice Z.\n",
      "\n"
     ]
    },
    {
     "data": {
      "image/png": "[encoded data removed]",
      "text/plain": [
       "<Figure size 360x360 with 1 Axes>"
      ]
     },
     "metadata": {
      "needs_background": "light"
     },
     "output_type": "display_data"
    }
   ],
   "source": [
    "from utils import step_i\n",
    "help(step_i)\n",
    "step_i(Z,5)  # Z à l'itération 5 "
   ]
  },
  {
   "cell_type": "markdown",
   "metadata": {},
   "source": [
    "#### Création de widget "
   ]
  },
  {
   "cell_type": "code",
   "execution_count": 18,
   "metadata": {
    "scrolled": false
   },
   "outputs": [
    {
     "data": {
      "application/vnd.jupyter.widget-view+json": {
       "model_id": "c93b846d7c224f78ac488807e6116079",
       "version_major": 2,
       "version_minor": 0
      },
      "text/plain": [
       "interactive(children=(IntSlider(value=50, description='iter'), Output()), _dom_classes=('widget-interact',))"
      ]
     },
     "metadata": {},
     "output_type": "display_data"
    },
    {
     "data": {
      "text/plain": [
       "<function utils.step_i(Z_initial, iter)>"
      ]
     },
     "execution_count": 18,
     "metadata": {},
     "output_type": "execute_result"
    }
   ],
   "source": [
    "import ipywidgets as pw\n",
    "\n",
    "pw.interact(step_i, Z_initial = pw.fixed(Z_huge) , iter = (0, 100, 1))"
   ]
  },
  {
   "cell_type": "markdown",
   "metadata": {},
   "source": [
    "En bougeant le curseur du *widget* entre 0 et 100, on observe qu'à partir de **l'itération 63**, les cellules trouvent une **stabilité**."
   ]
  },
  {
   "cell_type": "markdown",
   "metadata": {},
   "source": [
    "##  Exercice 2 - Régression linéaire"
   ]
  },
  {
   "cell_type": "markdown",
   "metadata": {},
   "source": [
    "#### Question 1\n",
    "On va s'intéresser, dans la suite, à la base de données **MNIST** qui représente des chiffres numérisés, dont on connaît une \"étiquette\" associée parmi les chiffres **(0, 1, . . . , 9)**."
   ]
  },
  {
   "cell_type": "markdown",
   "metadata": {},
   "source": [
    "On charge la base de données **MNIST** avec la commande from **sklearn.datasets** import **fetch_mldata** (ou bien avec from sklearn.datasets import fetch_openml si la version de sklearn est plus récente)."
   ]
  },
  {
   "cell_type": "code",
   "execution_count": 19,
   "metadata": {},
   "outputs": [],
   "source": [
    "from sklearn.datasets import fetch_mldata\n",
    "from random import randint\n",
    "import numpy as np\n",
    "import matplotlib.pyplot as plt\n",
    "#from sklearn.datasets import fetch_openml "
   ]
  },
  {
   "cell_type": "code",
   "execution_count": 20,
   "metadata": {},
   "outputs": [
    {
     "name": "stderr",
     "output_type": "stream",
     "text": [
      "C:\\Users\\Luana Paully\\Anaconda3\\lib\\site-packages\\sklearn\\utils\\deprecation.py:77: DeprecationWarning: Function fetch_mldata is deprecated; fetch_mldata was deprecated in version 0.20 and will be removed in version 0.22\n",
      "  warnings.warn(msg, category=DeprecationWarning)\n",
      "C:\\Users\\Luana Paully\\Anaconda3\\lib\\site-packages\\sklearn\\utils\\deprecation.py:77: DeprecationWarning: Function mldata_filename is deprecated; mldata_filename was deprecated in version 0.20 and will be removed in version 0.22\n",
      "  warnings.warn(msg, category=DeprecationWarning)\n"
     ]
    }
   ],
   "source": [
    "mnist = fetch_mldata('MNIST original')\n",
    "X = mnist.data.astype('float64')  # Matrice de vecteurs d'incidence codant les images.\n",
    "y = mnist.target  # liste des labels des images."
   ]
  },
  {
   "cell_type": "markdown",
   "metadata": {},
   "source": [
    "#### Question 2\n",
    "On transforme X et y pour ne garder que les cas des chiffres 3 et 7.\n",
    "On visualise avec **imshow** un exemple de chaque classe d'image (un X donc), en utilisant un reshape adapté."
   ]
  },
  {
   "cell_type": "code",
   "execution_count": 21,
   "metadata": {},
   "outputs": [
    {
     "data": {
      "text/plain": [
       "<matplotlib.image.AxesImage at 0x11abdec36a0>"
      ]
     },
     "execution_count": 21,
     "metadata": {},
     "output_type": "execute_result"
    },
    {
     "data": {
      "image/png": "[encoded data removed]",
      "text/plain": [
       "<Figure size 504x504 with 2 Axes>"
      ]
     },
     "metadata": {
      "needs_background": "light"
     },
     "output_type": "display_data"
    }
   ],
   "source": [
    "# Construisons les objets X_37 et y_37, des classes de X contenant des 3 et des 7.\n",
    "\n",
    "cluster_3 = np.array(y==3)\n",
    "cluster_7 = np.array(y==7)\n",
    "\n",
    "X_37 = X[cluster_3 + cluster_7]\n",
    "y_37 = y[cluster_3 + cluster_7]\n",
    "\n",
    "\n",
    "# Affichage de deux exemples représentatifs de chaque classe. \n",
    "\n",
    "plt.figure(figsize=(7,7))\n",
    "\n",
    "plt.subplot(1,2,1)\n",
    "plt.imshow((X[cluster_7][2]).reshape(28,28))\n",
    "\n",
    "plt.subplot(1,2,2)\n",
    "plt.imshow((X[cluster_3][7]).reshape(28,28))"
   ]
  },
  {
   "cell_type": "markdown",
   "metadata": {},
   "source": [
    "#### Question 3\n",
    "\n",
    "<p style='text-align: justify;'> On utilise la fonction LogisticRegression pour apprendre un modèle de classiffication sur l'intégralité des données (on choisira un cas sans ordonnée à l'origine, (avec l'option fit_intercept=False). Le modèle prédit alors la classe d'une image en considérant une image comme un vecteur x et en choisissant l'une des deux classes selon le signe de $w^Tx$, où w est le vecteur appris par la méthode et stocké dans l'attribut .coef_. </p>"
   ]
  },
  {
   "cell_type": "code",
   "execution_count": 22,
   "metadata": {},
   "outputs": [
    {
     "name": "stderr",
     "output_type": "stream",
     "text": [
      "C:\\Users\\Luana Paully\\Anaconda3\\lib\\site-packages\\sklearn\\linear_model\\logistic.py:433: FutureWarning: Default solver will be changed to 'lbfgs' in 0.22. Specify a solver to silence this warning.\n",
      "  FutureWarning)\n"
     ]
    },
    {
     "data": {
      "text/plain": [
       "LogisticRegression(C=1.0, class_weight=None, dual=False, fit_intercept=False,\n",
       "          intercept_scaling=1, max_iter=100, multi_class='warn',\n",
       "          n_jobs=None, penalty='l2', random_state=None, solver='warn',\n",
       "          tol=0.0001, verbose=0, warm_start=False)"
      ]
     },
     "execution_count": 22,
     "metadata": {},
     "output_type": "execute_result"
    }
   ],
   "source": [
    "from sklearn import linear_model\n",
    "\n",
    "logreg = linear_model.LogisticRegression(fit_intercept=False)\n",
    "logreg.fit(X_37, y_37)"
   ]
  },
  {
   "cell_type": "code",
   "execution_count": 23,
   "metadata": {},
   "outputs": [],
   "source": [
    "w = logreg.coef_"
   ]
  },
  {
   "cell_type": "markdown",
   "metadata": {},
   "source": [
    "#### Question 4\n",
    "En utilisant le vecteur w de cette manière, proposer un widget qui investigue l'impact de la transformation de l'image par l'opération :  $$x_{mod} = x - \\alpha \\frac{w^Tx}{||w||^2}$$"
   ]
  },
  {
   "cell_type": "markdown",
   "metadata": {},
   "source": [
    "On prendra pour x l'image associé au chiffre 7 de la question précédente, et le widget fera varier $\\alpha$ de 0.1 à 100 de 0.1 en 0.1. Pour cela on définira une fonction **fig_digit** (à ajouter de nouveau dans le fichier **utils.py**), qui contient une **docstring** décrivant son fonctionnement."
   ]
  },
  {
   "cell_type": "code",
   "execution_count": 24,
   "metadata": {},
   "outputs": [
    {
     "name": "stdout",
     "output_type": "stream",
     "text": [
      "Help on function fig_digit in module utils:\n",
      "\n",
      "fig_digit(x, w, alpha)\n",
      "    Arguments : \n",
      "    - x = un vecteur associé à une image\n",
      "    - w = un vecteur des coefficiens de régression\n",
      "    - alpha (ou le pas) = un réel de 0 à 100 (avec alpha = 0 : x_mod = x)\n",
      "    \n",
      "    La fonction transforme une image x par l'opération donnée dans l'énoncé, puis affiche son image ainsi que l'image avant la transformation.\n",
      "\n"
     ]
    },
    {
     "data": {
      "application/vnd.jupyter.widget-view+json": {
       "model_id": "dac79b454fde44d698787dd46ee2dfb2",
       "version_major": 2,
       "version_minor": 0
      },
      "text/plain": [
       "interactive(children=(FloatSlider(value=50.0, description='alpha'), Output()), _dom_classes=('widget-interact'…"
      ]
     },
     "metadata": {},
     "output_type": "display_data"
    },
    {
     "data": {
      "text/plain": [
       "<function utils.fig_digit(x, w, alpha)>"
      ]
     },
     "execution_count": 24,
     "metadata": {},
     "output_type": "execute_result"
    }
   ],
   "source": [
    "from utils import fig_digit\n",
    "help(fig_digit)\n",
    "import ipywidgets as pw\n",
    "\n",
    "pw.interact(fig_digit,  x = pw.fixed(X_37[8000]), w = pw.fixed(w.T), alpha = (0, 100, 0.1))"
   ]
  },
  {
   "cell_type": "markdown",
   "metadata": {},
   "source": [
    "#### Question 5\n",
    "On a créé un film (importé en **HTML** dans le notebook) qui représente l'évolution de l'image ainsi créé en fonction de $\\alpha$. \n",
    "\n",
    "On s'est inspiré de la page http://jakevdp.github.io/blog/2012/08/18/matplotlib-animation-tutorial/ pour plus d'information concernant la création de films (les informations importantes sont rajoutées dans le docstring)."
   ]
  },
  {
   "cell_type": "code",
   "execution_count": 25,
   "metadata": {
    "scrolled": false
   },
   "outputs": [
    {
     "data": {
      "image/png": "[encoded data removed]",
      "text/plain": [
       "<Figure size 432x288 with 1 Axes>"
      ]
     },
     "metadata": {
      "needs_background": "light"
     },
     "output_type": "display_data"
    }
   ],
   "source": [
    "\"\"\"\n",
    "author: Jake Vanderplas\n",
    "email: vanderplas@astro.washington.edu\n",
    "website: http://jakevdp.github.com\n",
    "license: BSD\n",
    "\"\"\"\n",
    "\n",
    "import numpy as np\n",
    "from matplotlib import pyplot as plt\n",
    "from matplotlib import animation\n",
    "from random import randint\n",
    "from utils import reglog\n",
    "\n",
    "\n",
    "w = logreg.coef_\n",
    "x = X_37[randint(0, len(X_37) - 1)]\n",
    "\n",
    "# Figure\n",
    "fig = plt.figure()\n",
    "    \n",
    "# Initialisation\n",
    "image = plt.imshow(x.reshape(28,28), animated = True)\n",
    "\n",
    "# Fonction d'animation, elle est appelée séquentiellement en changeant le alpha.\n",
    "def animate(alpha):\n",
    "    \n",
    "    x_mod = reglog(x, w.T, alpha)\n",
    "    image.set_array(x_mod)\n",
    "    \n",
    "    return image\n",
    "\n",
    "# Retourne l'animation.  \n",
    "# blit=True pour ne mettre à jour que les parties qui changent.\n",
    "anim = animation.FuncAnimation(fig, animate, frames = 200, interval = 0.1, blit = False)\n",
    "\n",
    "\n",
    "# Stocke l'animation en extension mp4.  \n",
    "# Nécessite ffmpeg ou mencoder\n",
    "# Pour plus d'informations : http://matplotlib.sourceforge.net/api/animation_api.html\n",
    "anim.save('animation.mp4', writer = \"ffmpeg\", fps=30, extra_args=['-vcodec', 'libx264'])\n",
    "\n",
    "plt.show()"
   ]
  },
  {
   "cell_type": "code",
   "execution_count": 26,
   "metadata": {},
   "outputs": [
    {
     "data": {
      "text/html": [
       "<video width = \"50%\" controls> <source src = \"animation.mp4\">"
      ],
      "text/plain": [
       "<IPython.core.display.HTML object>"
      ]
     },
     "execution_count": 26,
     "metadata": {},
     "output_type": "execute_result"
    }
   ],
   "source": [
    "from IPython.display import HTML\n",
    "\n",
    "HTML(\"\"\"<video width = \"50%\" controls> <source src = \"animation.mp4\">\"\"\")"
   ]
  },
  {
   "cell_type": "markdown",
   "metadata": {},
   "source": [
    "Cette vidéo représente donc notre simulation en fonction de la valeur de $\\alpha$. Nous pouvons observer que l'image se pixelise de plus en plus, jusqu'à ce qu'elle perd sa forme initiale. "
   ]
  },
  {
   "cell_type": "markdown",
   "metadata": {},
   "source": [
    "#### Question 6\n",
    "Décrivons mathématiquement ce que paramétrise le paramètre $\\alpha > 0$."
   ]
  },
  {
   "cell_type": "markdown",
   "metadata": {},
   "source": [
    "En utilisant le *widget*, nous observons que notre image change de forme, lorsque $\\alpha$ varie. Celle-ci se pixelise, jusqu'à ce qu'elle devient incomprehensible et on n'arrive plus à distinguer la chiffre qui s'y trouve. Plus $\\alpha$ est proche de 0, plus l'image devient claire.\n",
    "\n",
    "D'un autre côté, en regardant la formule, on voit que le seul paramètre qui change c'est bien $\\alpha$. Les autres paramètres sont constants. \n",
    "\n",
    "Donc nous pouvons associer $\\alpha > 0$ au learning-rate, tout comme dans la descente de gradient."
   ]
  },
  {
   "cell_type": "markdown",
   "metadata": {},
   "source": [
    "#### Question 7\n",
    "Proposons une analyse en composante principale (: Principal Component Analysis (PCA)) sur la matrice X_37, pour visualiser la base de données dans un espace de dimension 2, en ajustant les couleurs selon la classe des données. \n",
    "\n",
    "On s'est inspiré de l'exemple : https://scikitlearn.org/stable/auto_examples/decomposition/plot_incremental_pca.html#sphx-glrauto-examples-decomposition-plot-incremental-pca-py (les informations importantes sont rajoutées dans le docstring)."
   ]
  },
  {
   "cell_type": "code",
   "execution_count": 27,
   "metadata": {},
   "outputs": [
    {
     "name": "stdout",
     "output_type": "stream",
     "text": [
      "\n",
      "author: Jake Vanderplas\n",
      "email: vanderplas@astro.washington.edu\n",
      "website: http://jakevdp.github.com\n",
      "license: BSD\n",
      "\n"
     ]
    },
    {
     "data": {
      "image/png": "[encoded data removed]",
      "text/plain": [
       "<Figure size 576x576 with 1 Axes>"
      ]
     },
     "metadata": {
      "needs_background": "light"
     },
     "output_type": "display_data"
    },
    {
     "data": {
      "image/png": "[encoded data removed]",
      "text/plain": [
       "<Figure size 576x576 with 1 Axes>"
      ]
     },
     "metadata": {
      "needs_background": "light"
     },
     "output_type": "display_data"
    }
   ],
   "source": [
    "print(__doc__)\n",
    "\n",
    "\"\"\"\n",
    "Authors: Kyle Kastner\n",
    "License: BSD 3 clause\n",
    "\"\"\"\n",
    "\n",
    "import numpy as np\n",
    "import matplotlib.pyplot as plt\n",
    "\n",
    "from sklearn.decomposition import PCA, IncrementalPCA\n",
    "\n",
    "n_components = 2\n",
    "ipca = IncrementalPCA(n_components=n_components, batch_size=10)\n",
    "X_ipca = ipca.fit_transform(X_37)\n",
    "\n",
    "pca = PCA(n_components=n_components)\n",
    "X_pca = pca.fit_transform(X_37)\n",
    "\n",
    "colors = ['darkorange','red']\n",
    "ylabel = np.array(['3','7'])\n",
    "index = list([3,7])\n",
    "\n",
    "for X_transformed, title in [(X_ipca, \"Incremental PCA\"), (X_pca, \"PCA\")]:\n",
    "    plt.figure(figsize=(8, 8))\n",
    "    for color, i, target_name in zip(colors, index,  ylabel):\n",
    "        plt.scatter(X_transformed[y_37 == i, 0], X_transformed[y_37 == i, 1],\n",
    "                    color=color, lw=2, label=target_name)\n",
    "\n",
    "    if \"Incremental\" in title:\n",
    "        err = np.abs(np.abs(X_pca) - np.abs(X_ipca)).mean()\n",
    "        plt.title(title + \" of clusters 3 and 7 \\nMean absolute unsigned error \"\n",
    "                  \"%.6f\" % err)\n",
    "    else:\n",
    "        plt.title(title + \" of clusters 3 and 7 from MNIST dataset\")\n",
    "    plt.legend(loc=\"best\", shadow=False, scatterpoints=1)\n",
    "    plt.axis([-2000, 2500, -2000, 2000])\n",
    "\n",
    "plt.show()"
   ]
  },
  {
   "cell_type": "markdown",
   "metadata": {},
   "source": [
    "On observe d'après l'ACP que les deux classes, 3 (représentées en orange) et 7 (représentées en rouge), sont bien distinctes."
   ]
  }
 ],
 "metadata": {
  "kernelspec": {
   "display_name": "Python 3",
   "language": "python",
   "name": "python3"
  },
  "language_info": {
   "codemirror_mode": {
    "name": "ipython",
    "version": 3
   },
   "file_extension": ".py",
   "mimetype": "text/x-python",
   "name": "python",
   "nbconvert_exporter": "python",
   "pygments_lexer": "ipython3",
   "version": "3.7.3"
  }
 },
 "nbformat": 4,
 "nbformat_minor": 2
}
