{
 "cells": [
  {
   "cell_type": "markdown",
   "metadata": {},
   "source": [
    "#   Projet développement logiciel\n",
    "\n",
    "##  Partie Python\n",
    "\n",
    "###  TP°1 Noté"
   ]
  },
  {
   "cell_type": "markdown",
   "metadata": {},
   "source": [
    "##  Exercice 1 - Le jeu de la vie"
   ]
  },
  {
   "cell_type": "markdown",
   "metadata": {},
   "source": [
    "<img src=\"https://raw.githubusercontent.com/Elpysum/Projet-Dev-Log/master/Images/F1.jpg\" width=\"500\">"
   ]
  },
  {
   "cell_type": "markdown",
   "metadata": {},
   "source": [
    "<p style='text-align: justify;'> Le jeu de la vie est un automate cellulaire mis au point par le mathématicien britannique John Horton Conway en 1970. Il constitue l'exemple le plus connu d'un automate cellulaire. Le \"jeu\" est en fait un jeu à zéro joueur, ce qui signifie que son évolution est déterminée par son état initial et ne nécessite aucune intervention de la part d'un humain. On interagit avec le jeu de la vie en créant une configuration initiale ; il ne reste plus alors qu'à observer son évolution. </p>\n",
    "\n",
    "<p style='text-align: justify;'> L'univers du jeu est une grille orthogonale bidimensionnelle infinie de cellules carrées (dans la suite du projet on supposera que la grille est carrée et de taille finie pour éviter toute difficulté ; on supposera aussi que le pourtour de la grille est toujours inactif/mort), chacune d'entre elles se trouvant dans l'un des deux états possibles : </p>\n",
    "\n",
    "* **vivant**\n",
    "\n",
    "* **mort**\n",
    "\n",
    "Chaque cellule interagit avec ses huit voisins, qui sont les cellules directement adjacentes horizontalement, verticalement ou en diagonale, comme indiqué sur la Figure 1. À chaque étape, les transitions suivantes se produisent :\n",
    "\n",
    "**a)** Toute cellule morte ayant exactement 3 voisins vivants devient une cellule vivante (naissance), cf. **Figure 2a**\n",
    "\n",
    "**b)** Toute cellule vivante avec 2 ou 3 voisins vivants vit inchangée jusqu'à la génération suivante (équilibre), cf. **Figure 2b**\n",
    "\n",
    "**c)** Toute cellule vivante ayant 4 voisins vivants (mort par étouffement), cf. **Figure 2c**\n",
    "\n",
    "**d)** Toute cellule vivante ayant 0 ou 1 voisin vivant décède (mort par isolement), cf. **Figure 2d**.\n"
   ]
  },
  {
   "cell_type": "markdown",
   "metadata": {},
   "source": [
    "<img src=\"https://raw.githubusercontent.com/Elpysum/Projet-Dev-Log/master/Images/F2.jpg\" width=\"700\">"
   ]
  },
  {
   "cell_type": "markdown",
   "metadata": {},
   "source": [
    "<p style='text-align: justify;'> Le modèle initial constitue la \"graine\" du système. La première génération est créée en appliquant les règles ci-dessus simultanément à chaque cellule de la graine - les naissances et les décès se produisent simultanément. Ainsi chaque génération est une fonction de la précédente. Les règles continuent d'être appliquées de manière répétée pour créer d'autres générations 1 . </p>\n",
    "\n",
    "**ATTENTION :** La \"carte\" (on utilisera une liste de liste pour la représenter) est équipée d'une frontière de 0 : cela permet d'accélérer légèrement les calculs en évitant d'avoir des tests spécifiques pour les frontières lors du comptage du nombre de voisins. Ainsi la \"couronne\" du tour de la carte sera fixée à zéro. </p>"
   ]
  },
  {
   "cell_type": "markdown",
   "metadata": {},
   "source": [
    "### Implémentation sans numpy\n",
    "\n",
    "On va fournir dessous le code pure Python pour coder ce jeu. Dans la suite on va coder les cellules vivantes par des 1 et les cellules mortes par des 0. Tout d'abord on définit la fonction **calcul_nb_voisins** :"
   ]
  },
  {
   "cell_type": "code",
   "execution_count": 1,
   "metadata": {},
   "outputs": [],
   "source": [
    "def calcul_nb_voisins(Z):\n",
    "    forme = len(Z), len(Z[0])\n",
    "    N = [[0, ] * (forme[0]) for i in range(forme[1])]\n",
    "    for x in range(1, forme[0] - 1):\n",
    "        for y in range(1, forme[1] - 1):\n",
    "            N[x][y] = Z[x-1][y-1]+Z[x][y-1]+Z[x+1][y-1] \\\n",
    "            + Z[x-1][y] + 0 +Z[x+1][y] \\\n",
    "            + Z[x-1][y+1]+Z[x][y+1]+Z[x+1][y+1]\n",
    "    return N"
   ]
  },
  {
   "cell_type": "markdown",
   "metadata": {},
   "source": [
    "Appliquons la fonction précédente à la liste (de liste) Z suivante :"
   ]
  },
  {
   "cell_type": "code",
   "execution_count": 59,
   "metadata": {},
   "outputs": [],
   "source": [
    "Z = [[0,0,0,0,0,0],\n",
    "    [0,0,0,1,0,0],\n",
    "    [0,1,0,1,0,0],\n",
    "    [0,0,1,1,0,0],\n",
    "    [0,0,0,0,0,0],\n",
    "    [0,0,0,0,0,0]]"
   ]
  },
  {
   "cell_type": "markdown",
   "metadata": {},
   "source": [
    "Expliquons ce que représente la sortie obtenue **N=calcul_nb_voisins(Z)**. \n",
    "\n",
    "Cette fonction, et toutes les fonctions définies dans la suite seront placées dans un fichier **utils.py** que l'on appellera depuis le notebook."
   ]
  },
  {
   "cell_type": "code",
   "execution_count": 60,
   "metadata": {},
   "outputs": [
    {
     "data": {
      "text/plain": [
       "[[0, 0, 0, 0, 0, 0],\n",
       " [0, 1, 3, 1, 2, 0],\n",
       " [0, 1, 5, 3, 3, 0],\n",
       " [0, 2, 3, 2, 2, 0],\n",
       " [0, 1, 2, 2, 1, 0],\n",
       " [0, 0, 0, 0, 0, 0]]"
      ]
     },
     "execution_count": 60,
     "metadata": {},
     "output_type": "execute_result"
    }
   ],
   "source": [
    "N = calcul_nb_voisins(Z)\n",
    "N"
   ]
  },
  {
   "cell_type": "markdown",
   "metadata": {},
   "source": [
    "Cette sortie donne une matrice N de même taille que Z tel que $N_{ij}$ est le nombre de voisins vivants parmi les 8 voisins de la cellule $Z_{ij}$.  \n",
    "$\\textit{Exemple :}$ La cellule $Z_{34}$ a comme voisins vivants les cellulles $Z_{24}, Z_{43}$ et $Z_{44}$"
   ]
  },
  {
   "cell_type": "code",
   "execution_count": 61,
   "metadata": {},
   "outputs": [
    {
     "data": {
      "text/plain": [
       "\"\\nCette fonction fait donc une simulation d'un tour du jeu pour une matrice Z donnée.\\n\""
      ]
     },
     "execution_count": 61,
     "metadata": {},
     "output_type": "execute_result"
    }
   ],
   "source": [
    "def iteration_jeu(Z):\n",
    "    forme = len(Z), len(Z[0])\n",
    "    N = calcul_nb_voisins(Z)\n",
    "    \"\"\"\n",
    "    On parcourt avec la boucle for chaque cellule de Z avec son nombre de voisins vivants.\n",
    "    Si une cellule vivante a 0, 1 ou 4 voisins vivants on lui affecte la valeur 0 (mort).\n",
    "    Si une cellule morte a exactement 3 voisins vivants on lui affecte 1 (naissance).\n",
    "    Tout autre cas garde la meme valeur.\n",
    "    \"\"\"\n",
    "    for x in range(1,forme[0]-1):\n",
    "        for y in range(1,forme[1]-1):\n",
    "            if Z[x][y] == 1 and (N[x][y] < 2 or N[x][y] > 3):\n",
    "                Z[x][y] = 0\n",
    "            elif Z[x][y] == 0 and N[x][y] == 3:\n",
    "                Z[x][y] = 1\n",
    "    return Z\n",
    "\n",
    "\"\"\"\n",
    "Cette fonction fait donc une simulation d'un tour du jeu pour une matrice Z donnée.\n",
    "\"\"\""
   ]
  },
  {
   "cell_type": "code",
   "execution_count": 62,
   "metadata": {},
   "outputs": [
    {
     "data": {
      "text/plain": [
       "[[0, 0, 0, 0, 0, 0],\n",
       " [0, 0, 1, 0, 0, 0],\n",
       " [0, 0, 0, 1, 1, 0],\n",
       " [0, 0, 1, 1, 0, 0],\n",
       " [0, 0, 0, 0, 0, 0],\n",
       " [0, 0, 0, 0, 0, 0]]"
      ]
     },
     "execution_count": 62,
     "metadata": {},
     "output_type": "execute_result"
    }
   ],
   "source": [
    "iteration_jeu(Z)"
   ]
  },
  {
   "cell_type": "markdown",
   "metadata": {},
   "source": [
    "Dans cette question on se propose pour la liste Z, ci-dessus d'afficher les étapes du jeu de 0 à 9 itérations, en utilisant une boucle **for**. On utilisera la fonction **subplot** de **matplotlib** pour afficher sur 2 lignes et 5 colonnes, ces 10 matrices. De plus, on devra transformer ces listes en **array** pour pouvoir utiliser la fonction **imshow** de matplotlib."
   ]
  },
  {
   "cell_type": "code",
   "execution_count": 291,
   "metadata": {
    "scrolled": false
   },
   "outputs": [
    {
     "data": {
      "image/png": "[encoded data removed]",
      "text/plain": [
       "<Figure size 1080x720 with 10 Axes>"
      ]
     },
     "metadata": {
      "needs_background": "light"
     },
     "output_type": "display_data"
    }
   ],
   "source": [
    "import matplotlib.pyplot as plt\n",
    "import numpy as np\n",
    "\n",
    "Z = [[0,0,0,0,0,0],\n",
    "    [0,0,0,1,0,0],\n",
    "    [0,1,0,1,0,0],\n",
    "    [0,0,1,1,0,0],\n",
    "    [0,0,0,0,0,0],\n",
    "    [0,0,0,0,0,0]]\n",
    "fig, ax = plt.subplots(2,5, figsize=(15,10))\n",
    "for i in range(10):\n",
    "    Z = iteration_jeu(Z)\n",
    "#    print('Z',i,'=', np.matrix(Z))\n",
    "    if (i < 5) :\n",
    "        ax[0, i].imshow(Z)\n",
    "#        ax[0,i].grid(True)\n",
    "#        ax[0,i].set_xticks(range(0,5,1))\n",
    "#        plt.axis([0, 6,0,6])\n",
    "        ax[0,i].set_title('Itération ' + str(i))\n",
    "        plt.grid(True)\n",
    "        \n",
    "    else :\n",
    "        ax[1, i-5].imshow(Z)\n",
    "#        ax[1,i-5].grid(True)\n",
    "#        ax[1,i-5].set_xticks(range(0,5,1))\n",
    "        ax[1, i-5].set_title('Itération ' + str(i))\n",
    "\n",
    "plt.show()"
   ]
  },
  {
   "cell_type": "code",
   "execution_count": 276,
   "metadata": {},
   "outputs": [],
   "source": [
    "plt.subplots?"
   ]
  },
  {
   "cell_type": "markdown",
   "metadata": {},
   "source": [
    "Que remarquez-vous entre l'itération 0 et l'itération 4 ? Que se passe-t-il après l'itération 7 ?"
   ]
  },
  {
   "cell_type": "markdown",
   "metadata": {},
   "source": [
    "Nous remarquons qu'entre l'itération 0  et l'itération 4, les celules convergent vers le côté droit, en bas du graphique. Après l'itération 7, ou même après l'itération 6, ces cellules trouvent une stabilité, donc ne bougent plus, elles restent dans le côté droit et bas du graphique.  "
   ]
  },
  {
   "cell_type": "markdown",
   "metadata": {},
   "source": [
    "### Implémentation avec numba\n",
    "\n",
    "Reprendre la section précédente avec des fonctions utilisant numba et la compilation **\"jit\"**. On proposera en particulier un protocole expérimentale pour comparer les temps de calculs avec ou sans cet apport.\n",
    "\n",
    "Créer un widget dont le curseur permet de contrôler les itérations (par exemple de 0 à 30) du jeu de la vie quand on initialise avec la **matrice Z_huge** suivante :"
   ]
  },
  {
   "cell_type": "code",
   "execution_count": null,
   "metadata": {},
   "outputs": [],
   "source": [
    "import numpy as np  # raccourci usuel\n",
    "import matplotlib.pyplot as plt # raccourci usuel"
   ]
  },
  {
   "cell_type": "code",
   "execution_count": null,
   "metadata": {},
   "outputs": [],
   "source": [
    "Z_huge = np.zeros((100, 100))\n",
    "\n",
    "Z_np = np.array(\n",
    "    [[0, 0, 0, 0, 0, 0],\n",
    "    [0, 0, 0, 1, 0, 0],\n",
    "    [0, 1, 0, 1, 0, 0],\n",
    "    [0, 0, 1, 1, 0, 0],\n",
    "    [0, 0, 0, 0, 0, 0],\n",
    "    [0, 0, 0, 0, 0, 0]])\n",
    "\n",
    "Z_huge[10:16, 10:16] = Z_np"
   ]
  },
  {
   "cell_type": "markdown",
   "metadata": {},
   "source": [
    "On pourra diminuer la taille des matrices en jeux pour rendre fluide le widget si besoin s'en fait sentir sur votre machine."
   ]
  },
  {
   "cell_type": "markdown",
   "metadata": {},
   "source": [
    "##  Exercice 2 - Régression linéaire"
   ]
  },
  {
   "cell_type": "markdown",
   "metadata": {},
   "source": [
    "On va s'intéresser dans la suite à la base de données **MNIST** qui représente des chiffres numérisés, dont on connaît une \"étiquette\" associée parmi les chiffres **(0, 1, . . . , 9)**."
   ]
  },
  {
   "cell_type": "markdown",
   "metadata": {},
   "source": [
    "Charger la base de données **MNIST** avec la commande from **sklearn.datasets** import **fetch_mldata** (ou bien avec from sklearn.datasets import fetch_openml si votre version de sklearn est plus récente). On pourra par exemple utiliser dans le premier cas :"
   ]
  },
  {
   "cell_type": "code",
   "execution_count": null,
   "metadata": {},
   "outputs": [],
   "source": [
    "# from sklearn.datasets import fetch_mldata\n",
    "\n",
    "from sklearn.datasets import fetch_openml "
   ]
  },
  {
   "cell_type": "code",
   "execution_count": null,
   "metadata": {},
   "outputs": [],
   "source": [
    "mnist = fetch_mldata('MNIST original')\n",
    "X = mnist.data.astype('float64')\n",
    "y = mnist.target"
   ]
  },
  {
   "cell_type": "markdown",
   "metadata": {},
   "source": [
    "Transformer X et y pour ne garder que les cas des chiffres 3 et 7. Visualiser avec **imshow** un exemple de chaque classe d'image (un X donc), en utilisant un reshape adapté."
   ]
  },
  {
   "cell_type": "markdown",
   "metadata": {},
   "source": [
    "<p style='text-align: justify;'> Utiliser la fonction LogisticRegression pour apprendre un modèle de classiffication sur l'intégralité des données (on choisira un cas sans ordonnée à l'origine, i.e., l'option fit_intercept=False). Le modèle prédit alors la classe d'une image en considérant une image comme un vecteur x et en choisissant l'une des deux classes selon le signe de $w^Tx$, où w est le vecteur appris par la méthode et stocké dans l'attribut .coef_. </p>"
   ]
  },
  {
   "cell_type": "markdown",
   "metadata": {},
   "source": [
    "En utilisant le vecteur w de cette manière, proposer un widget qui investigue l'impact de la transformation de l'image par l'opération :  $$x_{mod} = x - \\alpha \\frac{w^Tx}{||w||^2}$$"
   ]
  },
  {
   "cell_type": "markdown",
   "metadata": {},
   "source": [
    "On prendra pour x l'image associé au chiffre 7 de la question précédente, et le widget fera varier $\\alpha$ de 0.1 à 100 de 0.1 en 0.1. Pour cela on définira une fonction **fig_digit** (à ajouter de nouveau dans le fichier **utils.py**), qui contient une **docstring** décrivant son fonctionnement."
   ]
  },
  {
   "cell_type": "markdown",
   "metadata": {},
   "source": [
    "Créer un film que l'on importera en **HTML** dans le notebook, et qui représente l'évolution de l'image ainsi créer en fonction de $\\alpha$. On pourra s'inspirer de la page http://jakevdp.github.io/blog/2012/08/18/matplotlib-animation-tutorial/ pour plus d'information concernant la création de films."
   ]
  },
  {
   "cell_type": "markdown",
   "metadata": {},
   "source": [
    "Décrire mathématiquement ce que paramétrise le paramètre $\\alpha > 0$."
   ]
  },
  {
   "cell_type": "markdown",
   "metadata": {},
   "source": [
    "Proposer une analyse en composante principale (: Principal Component Analysis (PCA)), pour visualiser la base de données dans un espace de dimension 2, en ajustant les couleurs selon la classe des données. On pourra s'inspirer de l'exemple : https://scikitlearn.org/stable/auto_examples/decomposition/plot_incremental_pca.html#sphx-glrauto-examples-decomposition-plot-incremental-pca-py"
   ]
  },
  {
   "cell_type": "code",
   "execution_count": null,
   "metadata": {},
   "outputs": [],
   "source": []
  }
 ],
 "metadata": {
  "kernelspec": {
   "display_name": "Python 3",
   "language": "python",
   "name": "python3"
  },
  "language_info": {
   "codemirror_mode": {
    "name": "ipython",
    "version": 3
   },
   "file_extension": ".py",
   "mimetype": "text/x-python",
   "name": "python",
   "nbconvert_exporter": "python",
   "pygments_lexer": "ipython3",
   "version": "3.7.3"
  }
 },
 "nbformat": 4,
 "nbformat_minor": 2
}
